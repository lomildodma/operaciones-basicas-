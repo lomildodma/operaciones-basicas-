{
  "nbformat": 4,
  "nbformat_minor": 0,
  "metadata": {
    "colab": {
      "provenance": []
    },
    "kernelspec": {
      "name": "python3",
      "display_name": "Python 3"
    },
    "language_info": {
      "name": "python"
    }
  },
  "cells": [
    {
      "cell_type": "markdown",
      "source": [
        "Estructuras basicas en python"
      ],
      "metadata": {
        "id": "-b3NrHEqbuXj"
      }
    },
    {
      "cell_type": "markdown",
      "source": [
        "Lista"
      ],
      "metadata": {
        "id": "bzNCesRHckxY"
      }
    },
    {
      "cell_type": "code",
      "source": [
        "# se crea una lista vacia\n",
        "lista_vacia = []\n",
        "lista_vacia = list()\n",
        "\n",
        "# se crea una lista con elementos\n",
        "motocicletas = ['honda', 'yamaha', 'suzuki', 'honda']\n",
        "\n",
        "# se agrega un elemento al final\n",
        "motocicletas.append('ducati')\n",
        "\n",
        "# se agrega un elemento en la posicion indicada\n",
        "motocicletas.insert(0, 'daelim')\n",
        "\n",
        "# se actualiza un elemento en una posicion\n",
        "motocicletas[1] = 'bmw'\n",
        "\n",
        "# se elimina un elemento por indice y se guarda el valor borrado\n",
        "elemento_cero = motocicletas.pop(0)\n",
        "\n",
        "# se elimina el ultimo elemento\n",
        "ultimo_elemento = motocicletas.pop()\n",
        "\n",
        "# se elimina la primera aparicion de un elemento\n",
        "motocicletas.remove('yamaha')\n",
        "\n",
        "# se eliminan todos los elementos\n",
        "motocicletas.clear()\n",
        "\n",
        "# se eliminan todas las apariciones de un elemento especifico\n",
        "while 'honda' in motocicletas:\n",
        "    motocicletas.remove('honda')\n",
        "\n",
        "# se accede a elementos usando indices\n",
        "numeros = [1, 2, 3, 4, 5]\n",
        "primer_elemento = numeros[0]\n",
        "dos_primeros_elementos = numeros[0:2]\n",
        "ultimo_elemento = numeros[-1]\n",
        "dos_ultimos_elementos = numeros[-2:]"
      ],
      "metadata": {
        "id": "JHqebALebt8i"
      },
      "execution_count": null,
      "outputs": []
    },
    {
      "cell_type": "markdown",
      "source": [
        "Set"
      ],
      "metadata": {
        "id": "_FS7JHEXci0G"
      }
    },
    {
      "cell_type": "code",
      "source": [
        "# se crea un set vacio\n",
        "nuevo_set = set()\n",
        "\n",
        "# se crea un set con elementos\n",
        "nuevo_set = {'uno', 'dos'}\n",
        "\n",
        "# se agrega un elemento al set\n",
        "nuevo_set.add('uno')\n",
        "\n",
        "# se actualiza el set con otro set\n",
        "nuevo_set.update({'dos', 'tres'})\n",
        "\n",
        "# se hace una copia del set\n",
        "copia_set = nuevo_set.copy()\n",
        "\n",
        "# se elimina un elemento sin error si no existe\n",
        "nuevo_set.discard('dos')\n",
        "\n",
        "# se elimina un elemento con error si no existe\n",
        "nuevo_set.remove('tres')\n",
        "\n",
        "# se eliminan todos los elementos del set\n",
        "nuevo_set.clear()\n",
        "\n",
        "# se crean dos sets\n",
        "set_uno = {1, 2, 3, 4}\n",
        "set_dos = {4, 5, 6, 7}\n",
        "\n",
        "# se calcula diferencia entre sets\n",
        "set_diferencia = set_uno.difference(set_dos)\n",
        "\n",
        "# se calcula interseccion entre sets\n",
        "set_interseccion = set_uno.intersection(set_dos)\n",
        "\n",
        "# se calcula union entre sets\n",
        "set_union = set_uno.union(set_dos)\n",
        "\n",
        "# se recorre un set con un for\n",
        "for element in set_uno:\n",
        "    print(element)\n"
      ],
      "metadata": {
        "id": "vHfozbGicIpD"
      },
      "execution_count": null,
      "outputs": []
    },
    {
      "cell_type": "markdown",
      "source": [
        "Tupla"
      ],
      "metadata": {
        "id": "aCTTL6w6cgIc"
      }
    },
    {
      "cell_type": "code",
      "source": [
        "# se crea una tupla vacia\n",
        "tupla_vacia = ()\n",
        "\n",
        "# se crean tuplas con elementos\n",
        "tupla_uno = ('arturo', 'lorenzo', 'hernandez')\n",
        "tupla_dos = ('r2d2', 'coder')\n",
        "\n",
        "# se borra toda la tupla de memoria\n",
        "del tupla_vacia\n",
        "\n",
        "# se unen dos tuplas\n",
        "tupla_tres = tupla_uno + tupla_dos\n",
        "\n",
        "# se busca el indice de un elemento\n",
        "index_arturo = tupla_uno.index('arturo')\n",
        "\n",
        "# se cuenta cuantas veces aparece un elemento\n",
        "count_coder = tupla_dos.count('coder')\n",
        "\n",
        "# se accede a un elemento con indice\n",
        "print(tupla_uno[0])\n",
        "\n",
        "# se accede a un rango de elementos\n",
        "print(tupla_uno[1:3])\n",
        "\n",
        "# se recorre una tupla con un for\n",
        "for elemento in tupla_tres:\n",
        "    print(elemento)\n"
      ],
      "metadata": {
        "id": "FSGElXLZcJ3E"
      },
      "execution_count": null,
      "outputs": []
    },
    {
      "cell_type": "markdown",
      "source": [
        "Diccionario"
      ],
      "metadata": {
        "id": "Ml5Z3aH1cdvs"
      }
    },
    {
      "cell_type": "code",
      "source": [
        "# se crea un diccionario vacio\n",
        "diccionario = dict()\n",
        "\n",
        "# se crea un diccionario con tuplas\n",
        "diccionario = dict([(\"clave1\", \"valor1\"), (\"clave2\", \"valor2\")])\n",
        "\n",
        "# se crea un diccionario con valores\n",
        "tecnologias = {'web': ['javascript', 'html', 'css'], 'videojuegos': ['unity', 'c#']}\n",
        "\n",
        "# se agrega un nuevo elemento al diccionario\n",
        "tecnologias['data engineer'] = ['python', 'hadoop']\n",
        "\n",
        "# se agrega o actualiza un elemento con update\n",
        "tecnologias.update({'desarrollo movil': ['android', 'ios']})\n",
        "\n",
        "# se actualiza la lista de una clave agregando un elemento\n",
        "tecnologias['web'].append('angular')\n",
        "\n",
        "# se actualiza un valor con una lista vacia\n",
        "tecnologias['web'] = []\n",
        "\n",
        "# se actualiza un valor con update\n",
        "tecnologias.update({'web': ['nodejs']})\n",
        "\n",
        "# se elimina un elemento y se obtiene el valor borrado\n",
        "valor_borrado = tecnologias.pop('data engineer')\n",
        "\n",
        "# se eliminan todos los elementos del diccionario\n",
        "tecnologias.clear()\n",
        "\n",
        "# se usa get para obtener un valor\n",
        "tecnologias_web = tecnologias.get('web', 'no existe la clave web')\n",
        "\n",
        "# se obtienen los items del diccionario\n",
        "tecnologias_items = tecnologias.items()\n",
        "\n",
        "# se obtienen las claves del diccionario\n",
        "tecnologias_keys = tecnologias.keys()\n",
        "\n",
        "# se recorre el diccionario con un for\n",
        "for key, value in tecnologias.items():\n",
        "    print(\"la clave \" + str(key) + \" esta asociada al valor \" + str(value))"
      ],
      "metadata": {
        "id": "8dMZfw6fcczS"
      },
      "execution_count": null,
      "outputs": []
    },
    {
      "cell_type": "markdown",
      "source": [
        "Luis Efren y Luis Roberto"
      ],
      "metadata": {
        "id": "YUOWWHAkcnA6"
      }
    }
  ]
}