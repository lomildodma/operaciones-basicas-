{
  "nbformat": 4,
  "nbformat_minor": 0,
  "metadata": {
    "colab": {
      "provenance": []
    },
    "kernelspec": {
      "name": "python3",
      "display_name": "Python 3"
    },
    "language_info": {
      "name": "python"
    }
  },
  "cells": [
    {
      "cell_type": "markdown",
      "source": [
        "# Ejercicios básicos en Python"
      ],
      "metadata": {
        "id": "DFXmbVkfCDw8"
      }
    },
    {
      "cell_type": "markdown",
      "source": [
        "Conversión de texto a mayúsculas"
      ],
      "metadata": {
        "id": "j9rW87x7CmXx"
      }
    },
    {
      "cell_type": "code",
      "source": [
        "texto = input(\" Ingresa una cadena de tipo texto : \") #ingresas la cadena o texto\n",
        "texto_mayusculas = texto.upper() #toma el texto y lo debuelbe en mayusculas solo afectando letras\n",
        "print(texto_mayusculas) # imprime el texto en mayusculas"
      ],
      "metadata": {
        "colab": {
          "base_uri": "https://localhost:8080/"
        },
        "id": "R9FhyhphI3Fs",
        "outputId": "522131c4-27e5-4d99-bf2e-a8aa8f874ef4"
      },
      "execution_count": null,
      "outputs": [
        {
          "output_type": "stream",
          "name": "stdout",
          "text": [
            " Ingresa una cadena de tipo texto : hola 1\n",
            "HOLA 1\n"
          ]
        }
      ]
    },
    {
      "cell_type": "markdown",
      "source": [
        "Números impares del 1 al 100"
      ],
      "metadata": {
        "id": "sk5iTxcxCSqp"
      }
    },
    {
      "cell_type": "code",
      "source": [
        "for i in range(1, 101): # se crea el siclo for de rango del 1 a 100 creando cada numero del 1 al 100 se pone 101 ya que el ultimo no se toma\n",
        "    if i % 2 != 0: # Si i no es divisible entre 2 osea si el resultado es diferente de 0 se imprime\n",
        "        print(i) # imprime i"
      ],
      "metadata": {
        "colab": {
          "base_uri": "https://localhost:8080/"
        },
        "id": "Zh0VqEZIIdOI",
        "outputId": "b841ac66-3538-4798-8986-2331858e4dcb"
      },
      "execution_count": null,
      "outputs": [
        {
          "output_type": "stream",
          "name": "stdout",
          "text": [
            "1\n",
            "3\n",
            "5\n",
            "7\n",
            "9\n",
            "11\n",
            "13\n",
            "15\n",
            "17\n",
            "19\n",
            "21\n",
            "23\n",
            "25\n",
            "27\n",
            "29\n",
            "31\n",
            "33\n",
            "35\n",
            "37\n",
            "39\n",
            "41\n",
            "43\n",
            "45\n",
            "47\n",
            "49\n",
            "51\n",
            "53\n",
            "55\n",
            "57\n",
            "59\n",
            "61\n",
            "63\n",
            "65\n",
            "67\n",
            "69\n",
            "71\n",
            "73\n",
            "75\n",
            "77\n",
            "79\n",
            "81\n",
            "83\n",
            "85\n",
            "87\n",
            "89\n",
            "91\n",
            "93\n",
            "95\n",
            "97\n",
            "99\n"
          ]
        }
      ]
    },
    {
      "cell_type": "markdown",
      "source": [
        "Números pares del 1 al 100"
      ],
      "metadata": {
        "id": "h_fYgqW7CwgE"
      }
    },
    {
      "cell_type": "code",
      "source": [
        "for i in range(1, 101): # se crea el siclo for de rango del 1 a 100 creando cada numero del 1 al 100 se pone 101 ya que el ultimo no se toma\n",
        "    if i % 2 == 0: #toma todos los balores y los dividen entre 2 si el resultado es igual a 0\n",
        "        print(i)"
      ],
      "metadata": {
        "colab": {
          "base_uri": "https://localhost:8080/"
        },
        "id": "vZ4ZjFbEILi3",
        "outputId": "393ea93a-ca92-40b8-8e2d-b5d8966da309"
      },
      "execution_count": null,
      "outputs": [
        {
          "output_type": "stream",
          "name": "stdout",
          "text": [
            "2\n",
            "4\n",
            "6\n",
            "8\n",
            "10\n",
            "12\n",
            "14\n",
            "16\n",
            "18\n",
            "20\n",
            "22\n",
            "24\n",
            "26\n",
            "28\n",
            "30\n",
            "32\n",
            "34\n",
            "36\n",
            "38\n",
            "40\n",
            "42\n",
            "44\n",
            "46\n",
            "48\n",
            "50\n",
            "52\n",
            "54\n",
            "56\n",
            "58\n",
            "60\n",
            "62\n",
            "64\n",
            "66\n",
            "68\n",
            "70\n",
            "72\n",
            "74\n",
            "76\n",
            "78\n",
            "80\n",
            "82\n",
            "84\n",
            "86\n",
            "88\n",
            "90\n",
            "92\n",
            "94\n",
            "96\n",
            "98\n",
            "100\n"
          ]
        }
      ]
    },
    {
      "cell_type": "markdown",
      "source": [
        "Números del 1 al 100"
      ],
      "metadata": {
        "id": "a7DPsGRTC9y1"
      }
    },
    {
      "cell_type": "code",
      "execution_count": null,
      "metadata": {
        "colab": {
          "base_uri": "https://localhost:8080/"
        },
        "id": "ztvPQwnVHPCD",
        "outputId": "f1d99ebc-0aaf-46fc-904a-138e8d2465a9"
      },
      "outputs": [
        {
          "output_type": "stream",
          "name": "stdout",
          "text": [
            "1\n",
            "2\n",
            "3\n",
            "4\n",
            "5\n",
            "6\n",
            "7\n",
            "8\n",
            "9\n",
            "10\n",
            "11\n",
            "12\n",
            "13\n",
            "14\n",
            "15\n",
            "16\n",
            "17\n",
            "18\n",
            "19\n",
            "20\n",
            "21\n",
            "22\n",
            "23\n",
            "24\n",
            "25\n",
            "26\n",
            "27\n",
            "28\n",
            "29\n",
            "30\n",
            "31\n",
            "32\n",
            "33\n",
            "34\n",
            "35\n",
            "36\n",
            "37\n",
            "38\n",
            "39\n",
            "40\n",
            "41\n",
            "42\n",
            "43\n",
            "44\n",
            "45\n",
            "46\n",
            "47\n",
            "48\n",
            "49\n",
            "50\n",
            "51\n",
            "52\n",
            "53\n",
            "54\n",
            "55\n",
            "56\n",
            "57\n",
            "58\n",
            "59\n",
            "60\n",
            "61\n",
            "62\n",
            "63\n",
            "64\n",
            "65\n",
            "66\n",
            "67\n",
            "68\n",
            "69\n",
            "70\n",
            "71\n",
            "72\n",
            "73\n",
            "74\n",
            "75\n",
            "76\n",
            "77\n",
            "78\n",
            "79\n",
            "80\n",
            "81\n",
            "82\n",
            "83\n",
            "84\n",
            "85\n",
            "86\n",
            "87\n",
            "88\n",
            "89\n",
            "90\n",
            "91\n",
            "92\n",
            "93\n",
            "94\n",
            "95\n",
            "96\n",
            "97\n",
            "98\n",
            "99\n",
            "100\n"
          ]
        }
      ],
      "source": [
        "for i in range(1, 101): # se crea el siclo for de rango del 1 a 100 creando cada numero del 1 al 100 se pone 101 ya que el ultimo no se toma\n",
        "    print(i) # imprie el resultado"
      ]
    }
  ]
}